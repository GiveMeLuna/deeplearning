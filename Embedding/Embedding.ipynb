{
 "cells": [
  {
   "cell_type": "code",
   "execution_count": 1,
   "metadata": {
    "scrolled": true
   },
   "outputs": [
    {
     "name": "stderr",
     "output_type": "stream",
     "text": [
      "Using TensorFlow backend.\n"
     ]
    }
   ],
   "source": [
    "from keras.layers import Embedding\n",
    "embedding_layer = Embedding(1000, 64)"
   ]
  },
  {
   "cell_type": "code",
   "execution_count": 2,
   "metadata": {
    "scrolled": true
   },
   "outputs": [],
   "source": [
    "#此处书本是from keras.layers import preprocessing，但是我下载的keras，preprocessing是在keras文件夹下的\n",
    "from keras.datasets import imdb\n",
    "from keras import preprocessing\n",
    "#作为特征的单词个数\n",
    "max_features = 10000\n",
    "#在这么多单词后截断文本(这些单词都属于前 max_features 个最常见的单词)\n",
    "maxlen = 20"
   ]
  },
  {
   "cell_type": "code",
   "execution_count": 3,
   "metadata": {},
   "outputs": [],
   "source": [
    "#将数据加载为整数列表\n",
    "(x_train, y_train), (x_test, y_test) = imdb.load_data(\n",
    "num_words=max_features)"
   ]
  },
  {
   "cell_type": "code",
   "execution_count": 4,
   "metadata": {},
   "outputs": [],
   "source": [
    "#将整数列表转换成形状为 (samples,maxlen) 的二维整数张量\n",
    "x_train = preprocessing.sequence.pad_sequences(x_train, maxlen=maxlen)\n",
    "x_test = preprocessing.sequence.pad_sequences(x_test, maxlen=maxlen)"
   ]
  },
  {
   "cell_type": "code",
   "execution_count": 6,
   "metadata": {},
   "outputs": [
    {
     "name": "stdout",
     "output_type": "stream",
     "text": [
      "_________________________________________________________________\n",
      "Layer (type)                 Output Shape              Param #   \n",
      "=================================================================\n",
      "embedding_3 (Embedding)      (None, 20, 8)             80000     \n",
      "_________________________________________________________________\n",
      "flatten_1 (Flatten)          (None, 160)               0         \n",
      "_________________________________________________________________\n",
      "dense_1 (Dense)              (None, 1)                 161       \n",
      "=================================================================\n",
      "Total params: 80,161\n",
      "Trainable params: 80,161\n",
      "Non-trainable params: 0\n",
      "_________________________________________________________________\n",
      "Train on 20000 samples, validate on 5000 samples\n",
      "Epoch 1/10\n",
      "20000/20000 [==============================] - 2s 125us/step - loss: 0.6730 - acc: 0.6107 - val_loss: 0.6267 - val_acc: 0.6888\n",
      "Epoch 2/10\n",
      "20000/20000 [==============================] - 1s 66us/step - loss: 0.5492 - acc: 0.7478 - val_loss: 0.5295 - val_acc: 0.7340\n",
      "Epoch 3/10\n",
      "20000/20000 [==============================] - 1s 62us/step - loss: 0.4654 - acc: 0.7861 - val_loss: 0.5007 - val_acc: 0.7452\n",
      "Epoch 4/10\n",
      "20000/20000 [==============================] - 1s 67us/step - loss: 0.4239 - acc: 0.8080 - val_loss: 0.4934 - val_acc: 0.7474\n",
      "Epoch 5/10\n",
      "20000/20000 [==============================] - 1s 63us/step - loss: 0.3957 - acc: 0.8246 - val_loss: 0.4927 - val_acc: 0.7554\n",
      "Epoch 6/10\n",
      "20000/20000 [==============================] - 1s 63us/step - loss: 0.3737 - acc: 0.8371 - val_loss: 0.4964 - val_acc: 0.7572\n",
      "Epoch 7/10\n",
      "20000/20000 [==============================] - 1s 62us/step - loss: 0.3536 - acc: 0.8475 - val_loss: 0.4998 - val_acc: 0.7590\n",
      "Epoch 8/10\n",
      "20000/20000 [==============================] - 1s 64us/step - loss: 0.3348 - acc: 0.8576 - val_loss: 0.5072 - val_acc: 0.7552\n",
      "Epoch 9/10\n",
      "20000/20000 [==============================] - 1s 68us/step - loss: 0.3168 - acc: 0.8678 - val_loss: 0.5150 - val_acc: 0.7554\n",
      "Epoch 10/10\n",
      "20000/20000 [==============================] - 1s 63us/step - loss: 0.2996 - acc: 0.8789 - val_loss: 0.5226 - val_acc: 0.7528\n"
     ]
    }
   ],
   "source": [
    "from keras.models import Sequential\n",
    "from keras.layers import Flatten, Dense, Embedding\n",
    "#指定 Embedding 层的最大输入长度,以便后面将嵌入输入展平。 Embedding 层激活的形状为 (samples, maxlen, 8)\n",
    "model = Sequential()\n",
    "model.add(Embedding(10000, 8, input_length=maxlen))\n",
    "#将三维的嵌入张量展平成形状为 (samples, maxlen * 8) 的二维张量\n",
    "model.add(Flatten())\n",
    "#在上面添加分类器\n",
    "model.add(Dense(1, activation='sigmoid'))\n",
    "model.compile(optimizer='rmsprop', loss='binary_crossentropy', metrics=['acc'])\n",
    "model.summary()\n",
    "history = model.fit(x_train, y_train,\n",
    "epochs=10,\n",
    "batch_size=32,\n",
    "validation_split=0.2)"
   ]
  },
  {
   "cell_type": "code",
   "execution_count": null,
   "metadata": {},
   "outputs": [],
   "source": [
    ""
   ]
  }
 ],
 "metadata": {
  "kernelspec": {
   "display_name": "Python 3",
   "language": "python",
   "name": "python3"
  },
  "language_info": {
   "codemirror_mode": {
    "name": "ipython",
    "version": 3.0
   },
   "file_extension": ".py",
   "mimetype": "text/x-python",
   "name": "python",
   "nbconvert_exporter": "python",
   "pygments_lexer": "ipython3",
   "version": "3.5.2"
  }
 },
 "nbformat": 4,
 "nbformat_minor": 0
}