{
 "cells": [
  {
   "cell_type": "code",
   "execution_count": 1,
   "metadata": {},
   "outputs": [
    {
     "name": "stderr",
     "output_type": "stream",
     "text": [
      "Using TensorFlow backend.\n"
     ]
    },
    {
     "name": "stdout",
     "output_type": "stream",
     "text": [
      "Loading data...\n",
      "25000 train sequences\n",
      "25000 test sequences\n",
      "Pad sequences (samples x time)\n",
      "input_train shape: (25000, 500)\n",
      "input_test shape: (25000, 500)\n"
     ]
    }
   ],
   "source": [
    "from keras.datasets import imdb\n",
    "from keras.preprocessing import sequence\n",
    "\n",
    "max_features = 10000\n",
    "maxlen = 500\n",
    "batch_size = 32\n",
    "print('Loading data...')\n",
    "(input_train, y_train), (input_test, y_test) = imdb.load_data(\n",
    "num_words=max_features)\n",
    "print(len(input_train), 'train sequences')\n",
    "print(len(input_test), 'test sequences')\n",
    "print('Pad sequences (samples x time)')\n",
    "input_train = sequence.pad_sequences(input_train, maxlen=maxlen)\n",
    "input_test = sequence.pad_sequences(input_test, maxlen=maxlen)\n",
    "print('input_train shape:', input_train.shape)\n",
    "print('input_test shape:', input_test.shape)"
   ]
  },
  {
   "cell_type": "code",
   "execution_count": 4,
   "metadata": {},
   "outputs": [
    {
     "name": "stdout",
     "output_type": "stream",
     "text": [
      "Train on 20000 samples, validate on 5000 samples\n",
      "Epoch 1/10\n",
      "20000/20000 [==============================] - 25s 1ms/step - loss: 0.6451 - acc: 0.6080 - val_loss: 0.4792 - val_acc: 0.7918\n",
      "Epoch 2/10\n",
      "20000/20000 [==============================] - 23s 1ms/step - loss: 0.4003 - acc: 0.8322 - val_loss: 0.4645 - val_acc: 0.7756\n",
      "Epoch 3/10\n",
      "20000/20000 [==============================] - 24s 1ms/step - loss: 0.2968 - acc: 0.8812 - val_loss: 0.4478 - val_acc: 0.7938\n",
      "Epoch 4/10\n",
      "20000/20000 [==============================] - 24s 1ms/step - loss: 0.2257 - acc: 0.9134 - val_loss: 0.4555 - val_acc: 0.8074\n",
      "Epoch 5/10\n",
      "20000/20000 [==============================] - 23s 1ms/step - loss: 0.1472 - acc: 0.9475 - val_loss: 0.5141 - val_acc: 0.8104\n",
      "Epoch 6/10\n",
      "20000/20000 [==============================] - 23s 1ms/step - loss: 0.0956 - acc: 0.9688 - val_loss: 0.4206 - val_acc: 0.8492\n",
      "Epoch 7/10\n",
      "20000/20000 [==============================] - 23s 1ms/step - loss: 0.0561 - acc: 0.9833 - val_loss: 0.5782 - val_acc: 0.7884\n",
      "Epoch 8/10\n",
      "20000/20000 [==============================] - 23s 1ms/step - loss: 0.0355 - acc: 0.9899 - val_loss: 0.5830 - val_acc: 0.8286\n",
      "Epoch 9/10\n",
      "20000/20000 [==============================] - 23s 1ms/step - loss: 0.0208 - acc: 0.9941 - val_loss: 0.7870 - val_acc: 0.7674\n",
      "Epoch 10/10\n",
      "20000/20000 [==============================] - 23s 1ms/step - loss: 0.0121 - acc: 0.9972 - val_loss: 0.6588 - val_acc: 0.8244\n"
     ]
    }
   ],
   "source": [
    "#用 Embedding 层和 SimpleRNN 层来训练模型\n",
    "from keras.layers import Dense\n",
    "from keras.models import Sequential\n",
    "from keras.layers import Embedding, SimpleRNN\n",
    "model = Sequential()\n",
    "model.add(Embedding(max_features, 32))\n",
    "model.add(SimpleRNN(32))\n",
    "model.add(Dense(1, activation='sigmoid'))\n",
    "model.compile(optimizer='rmsprop', loss='binary_crossentropy', metrics=['acc'])\n",
    "history = model.fit(input_train, y_train,\n",
    "epochs=10,\n",
    "batch_size=128,\n",
    "validation_split=0.2)"
   ]
  },
  {
   "cell_type": "code",
   "execution_count": 7,
   "metadata": {},
   "outputs": [
    {
     "name": "stdout",
     "output_type": "stream",
     "text": [
      "Train on 20000 samples, validate on 5000 samples\n",
      "Epoch 1/10\n",
      "20000/20000 [==============================] - 61s 3ms/step - loss: 0.5083 - acc: 0.7615 - val_loss: 0.3282 - val_acc: 0.8650\n",
      "Epoch 2/10\n",
      "20000/20000 [==============================] - 59s 3ms/step - loss: 0.2929 - acc: 0.8840 - val_loss: 0.3779 - val_acc: 0.8246\n",
      "Epoch 3/10\n",
      "20000/20000 [==============================] - 59s 3ms/step - loss: 0.2337 - acc: 0.9099 - val_loss: 0.3284 - val_acc: 0.8836\n",
      "Epoch 4/10\n",
      "20000/20000 [==============================] - 59s 3ms/step - loss: 0.1983 - acc: 0.9267 - val_loss: 0.3251 - val_acc: 0.8730\n",
      "Epoch 5/10\n",
      "20000/20000 [==============================] - 59s 3ms/step - loss: 0.1740 - acc: 0.9361 - val_loss: 0.2996 - val_acc: 0.8896\n",
      "Epoch 6/10\n",
      "20000/20000 [==============================] - 59s 3ms/step - loss: 0.1548 - acc: 0.9429 - val_loss: 0.4161 - val_acc: 0.8678\n",
      "Epoch 7/10\n",
      "20000/20000 [==============================] - 59s 3ms/step - loss: 0.1424 - acc: 0.9499 - val_loss: 0.5598 - val_acc: 0.8554\n",
      "Epoch 8/10\n",
      "20000/20000 [==============================] - 59s 3ms/step - loss: 0.1291 - acc: 0.9528 - val_loss: 0.3487 - val_acc: 0.8670\n",
      "Epoch 9/10\n",
      "20000/20000 [==============================] - 59s 3ms/step - loss: 0.1159 - acc: 0.9599 - val_loss: 0.3222 - val_acc: 0.8824\n",
      "Epoch 10/10\n",
      "20000/20000 [==============================] - 59s 3ms/step - loss: 0.1109 - acc: 0.9615 - val_loss: 0.4303 - val_acc: 0.8720\n"
     ]
    }
   ],
   "source": [
    "# #使用 Keras 中的 LSTM 层http://localhost:8888/notebooks/%E6%96%87%E6%A1%A3/deeplearn/%E7%AC%AC%E5%85%AD%E7%AB%A0/%E5%BE%AA%E7%8E%AF%E7%A5%9E%E7%BB%8F%E7%BD%91%E7%BB%9C/%E6%9C%AA%E5%91%BD%E5%90%8D.ipynb?kernel_name=python3#\n",
    "# from keras.layers import LSTM\n",
    "# model = Sequential()\n",
    "# model.add(Embedding(max_features, 32))\n",
    "# model.add(LSTM(32))\n",
    "# model.add(Dense(1, activation='sigmoid'))\n",
    "# model.compile(optimizer='rmsprop',\n",
    "# loss='binary_crossentropy',\n",
    "# metrics=['acc'])\n",
    "# history = model.fit(input_train, y_train,\n",
    "# epochs=10,\n",
    "# batch_size=128,\n",
    "# validation_split=0.2)"
   ]
  },
  {
   "cell_type": "code",
   "execution_count": 8,
   "metadata": {
    "scrolled": true
   },
   "outputs": [
    {
     "data": {
      "text/plain": [
       "<matplotlib.legend.Legend at 0x7ffaf71f1a20>"
      ]
     },
     "execution_count": 8,
     "metadata": {},
     "output_type": "execute_result"
    },
    {
     "data": {
      "image/png": "[encoded data removed]",
      "text/plain": [
       "<Figure size 432x288 with 1 Axes>"
      ]
     },
     "metadata": {
      "needs_background": "light"
     },
     "output_type": "display_data"
    }
   ],
   "source": [
    "#绘制结果\n",
    "%matplotlib inline\n",
    "import matplotlib.pyplot as plt\n",
    "acc = history.history['acc']\n",
    "val_acc = history.history['val_acc']\n",
    "loss = history.history['loss']\n",
    "val_loss = history.history['val_loss']\n",
    "epochs = range(1, len(acc) + 1)\n",
    "plt.plot(epochs, acc, 'bo', label='Training acc')\n",
    "plt.plot(epochs, val_acc, 'b', label='Validation acc')\n",
    "plt.title('Training and validation accuracy')\n",
    "plt.legend()"
   ]
  },
  {
   "cell_type": "code",
   "execution_count": 9,
   "metadata": {},
   "outputs": [
    {
     "data": {
      "image/png": "[encoded data removed]",
      "text/plain": [
       "<Figure size 432x288 with 1 Axes>"
      ]
     },
     "metadata": {
      "needs_background": "light"
     },
     "output_type": "display_data"
    }
   ],
   "source": [
    "plt.figure()\n",
    "plt.plot(epochs, loss, 'bo', label='Training loss')\n",
    "plt.plot(epochs, val_loss, 'b', label='Validation loss')\n",
    "plt.title('Training and validation loss')\n",
    "plt.legend()\n",
    "plt.show()"
   ]
  },
  {
   "cell_type": "code",
   "execution_count": null,
   "metadata": {},
   "outputs": [],
   "source": [
    ""
   ]
  }
 ],
 "metadata": {
  "kernelspec": {
   "display_name": "Python 3",
   "language": "python",
   "name": "python3"
  },
  "language_info": {
   "codemirror_mode": {
    "name": "ipython",
    "version": 3.0
   },
   "file_extension": ".py",
   "mimetype": "text/x-python",
   "name": "python",
   "nbconvert_exporter": "python",
   "pygments_lexer": "ipython3",
   "version": "3.5.2"
  }
 },
 "nbformat": 4,
 "nbformat_minor": 0
}